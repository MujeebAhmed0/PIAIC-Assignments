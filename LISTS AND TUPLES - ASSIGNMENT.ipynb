{
 "cells": [
  {
   "cell_type": "code",
   "execution_count": 2,
   "metadata": {},
   "outputs": [
    {
     "data": {
      "text/plain": [
       "['__add__',\n",
       " '__class__',\n",
       " '__contains__',\n",
       " '__delattr__',\n",
       " '__delitem__',\n",
       " '__dir__',\n",
       " '__doc__',\n",
       " '__eq__',\n",
       " '__format__',\n",
       " '__ge__',\n",
       " '__getattribute__',\n",
       " '__getitem__',\n",
       " '__gt__',\n",
       " '__hash__',\n",
       " '__iadd__',\n",
       " '__imul__',\n",
       " '__init__',\n",
       " '__init_subclass__',\n",
       " '__iter__',\n",
       " '__le__',\n",
       " '__len__',\n",
       " '__lt__',\n",
       " '__mul__',\n",
       " '__ne__',\n",
       " '__new__',\n",
       " '__reduce__',\n",
       " '__reduce_ex__',\n",
       " '__repr__',\n",
       " '__reversed__',\n",
       " '__rmul__',\n",
       " '__setattr__',\n",
       " '__setitem__',\n",
       " '__sizeof__',\n",
       " '__str__',\n",
       " '__subclasshook__',\n",
       " 'append',\n",
       " 'clear',\n",
       " 'copy',\n",
       " 'count',\n",
       " 'extend',\n",
       " 'index',\n",
       " 'insert',\n",
       " 'pop',\n",
       " 'remove',\n",
       " 'reverse',\n",
       " 'sort']"
      ]
     },
     "execution_count": 2,
     "metadata": {},
     "output_type": "execute_result"
    }
   ],
   "source": [
    "name = [\"alina\",\"sana\",\"zara\"]\n",
    "dir(name)"
   ]
  },
  {
   "cell_type": "code",
   "execution_count": 4,
   "metadata": {},
   "outputs": [
    {
     "data": {
      "text/plain": [
       "['alina', 'sana', 'zara']"
      ]
     },
     "execution_count": 4,
     "metadata": {},
     "output_type": "execute_result"
    }
   ],
   "source": [
    "name"
   ]
  },
  {
   "cell_type": "markdown",
   "metadata": {},
   "source": [
    "# append function"
   ]
  },
  {
   "cell_type": "code",
   "execution_count": 8,
   "metadata": {},
   "outputs": [
    {
     "name": "stdout",
     "output_type": "stream",
     "text": [
      "['alina', 'sana', 'zara', 'saba', 'saba', 'saba', 'faiza']\n"
     ]
    }
   ],
   "source": [
    "name.append(\"faiza\")  # adds the value at the end of the list\n",
    "print(name)"
   ]
  },
  {
   "cell_type": "markdown",
   "metadata": {},
   "source": [
    "# insert function"
   ]
  },
  {
   "cell_type": "code",
   "execution_count": 11,
   "metadata": {},
   "outputs": [
    {
     "name": "stdout",
     "output_type": "stream",
     "text": [
      "['alina', 'sana', 'zara', 'saba', 'fouzia', 'fiza', 'fouzia', 'saba', 'saba', 'faiza']\n"
     ]
    }
   ],
   "source": [
    "name.insert(4,\"fouzia\")    #inserts the value at the specified index/position of the list\n",
    "print(name)"
   ]
  },
  {
   "cell_type": "markdown",
   "metadata": {},
   "source": [
    "# index function"
   ]
  },
  {
   "cell_type": "code",
   "execution_count": 12,
   "metadata": {},
   "outputs": [
    {
     "data": {
      "text/plain": [
       "'saba'"
      ]
     },
     "execution_count": 12,
     "metadata": {},
     "output_type": "execute_result"
    }
   ],
   "source": [
    "name[7]     #refering to the item of list using its index and first item of list has zero index by default"
   ]
  },
  {
   "cell_type": "code",
   "execution_count": 14,
   "metadata": {},
   "outputs": [
    {
     "data": {
      "text/plain": [
       "3"
      ]
     },
     "execution_count": 14,
     "metadata": {},
     "output_type": "execute_result"
    }
   ],
   "source": [
    "name.index(\"saba\")  #using index func to locate the index of given value"
   ]
  },
  {
   "cell_type": "code",
   "execution_count": 8,
   "metadata": {},
   "outputs": [
    {
     "name": "stdout",
     "output_type": "stream",
     "text": [
      "['rose', 'lily', 'pansy', 'jasmine']\n"
     ]
    }
   ],
   "source": [
    "flowers = [\"rose\",\"lily\",\"pansy\",\"jasmine\"]\n",
    "print(flowers)"
   ]
  },
  {
   "cell_type": "markdown",
   "metadata": {},
   "source": [
    "# append function"
   ]
  },
  {
   "cell_type": "code",
   "execution_count": 10,
   "metadata": {},
   "outputs": [
    {
     "name": "stdout",
     "output_type": "stream",
     "text": [
      "['rose', 'lily', 'pansy', 'jasmine', 'lilac', 'lilac']\n"
     ]
    }
   ],
   "source": [
    "flowers.append(\"lilac\")\n",
    "print(flowers)"
   ]
  },
  {
   "cell_type": "markdown",
   "metadata": {},
   "source": [
    "# extend function"
   ]
  },
  {
   "cell_type": "code",
   "execution_count": 23,
   "metadata": {},
   "outputs": [
    {
     "name": "stdout",
     "output_type": "stream",
     "text": [
      "['rose', 'lily', 'pansy', 'jasmine', 'tulip', 'marigold', 'daffodil', 'rose', 'tulip']\n"
     ]
    }
   ],
   "source": [
    "flowers = [\"rose\",\"lily\",\"pansy\",\"jasmine\"]   #a list is appended to a list using extend function \n",
    "flowers.extend([\"tulip\",\"marigold\",\"daffodil\",\"rose\",\"tulip\"])  #note the sqaure brackets inside parenthesis indicating a list\n",
    "print(flowers)"
   ]
  },
  {
   "cell_type": "markdown",
   "metadata": {},
   "source": [
    "# copy function( by reference copy)"
   ]
  },
  {
   "cell_type": "code",
   "execution_count": 2,
   "metadata": {},
   "outputs": [
    {
     "name": "stdout",
     "output_type": "stream",
     "text": [
      "['rose', 'lily', 'pansy', 'jasmine']\n",
      "['rose', 'lily', 'pansy', 'jasmine']\n"
     ]
    }
   ],
   "source": [
    "flowers = [\"rose\",\"lily\",\"pansy\",\"jasmine\"]\n",
    "print(flowers)\n",
    "flowers1 = flowers  # by reference copying means we refer to the same list using different names\n",
    "print(flowers1)  # if one list is modified then the other list is also modified automatically"
   ]
  },
  {
   "cell_type": "markdown",
   "metadata": {},
   "source": [
    "# explanation of by reference copy using  different functions"
   ]
  },
  {
   "cell_type": "code",
   "execution_count": 19,
   "metadata": {},
   "outputs": [
    {
     "name": "stdout",
     "output_type": "stream",
     "text": [
      "['rose', 'lily', 'pansy', 'jasmine', 'tulip', 'poppy', 'tulip', 'tulip', 'tulip']\n",
      "['rose', 'lily', 'pansy', 'jasmine', 'tulip', 'poppy', 'tulip', 'tulip', 'tulip']\n"
     ]
    }
   ],
   "source": [
    "flowers1.append('tulip')\n",
    "print(flowers1)\n",
    "print(flowers)"
   ]
  },
  {
   "cell_type": "code",
   "execution_count": 7,
   "metadata": {},
   "outputs": [
    {
     "name": "stdout",
     "output_type": "stream",
     "text": [
      "['rose', 'lily', 'pansy', 'jasmine', 'tulip', 'poppy', 'tulip', 'tulip']\n"
     ]
    }
   ],
   "source": [
    "flowers.insert(5,\"poppy\")\n",
    "print(flowers)"
   ]
  },
  {
   "cell_type": "code",
   "execution_count": 8,
   "metadata": {},
   "outputs": [
    {
     "data": {
      "text/plain": [
       "['rose', 'lily', 'pansy', 'jasmine', 'tulip', 'poppy', 'tulip', 'tulip']"
      ]
     },
     "execution_count": 8,
     "metadata": {},
     "output_type": "execute_result"
    }
   ],
   "source": [
    "flowers1"
   ]
  },
  {
   "cell_type": "markdown",
   "metadata": {},
   "source": [
    "# copy function( by value  copy)"
   ]
  },
  {
   "cell_type": "code",
   "execution_count": 9,
   "metadata": {},
   "outputs": [
    {
     "name": "stdout",
     "output_type": "stream",
     "text": [
      "['rose', 'lily', 'pansy', 'jasmine', 'tulip', 'poppy', 'tulip', 'tulip']\n"
     ]
    }
   ],
   "source": [
    "flowers2 = flowers.copy()      #by value copy\n",
    "print(flowers2)      # it means when we modify new list then original list remains unchanged"
   ]
  },
  {
   "cell_type": "markdown",
   "metadata": {},
   "source": [
    "# del operator"
   ]
  },
  {
   "cell_type": "code",
   "execution_count": 18,
   "metadata": {},
   "outputs": [
    {
     "name": "stdout",
     "output_type": "stream",
     "text": [
      "['rose', 'lily', 'pansy', 'jasmine', 'tulip', 'poppy', 'tulip']\n",
      "['rose', 'lily', 'pansy', 'jasmine', 'tulip', 'poppy', 'tulip', 'tulip']\n"
     ]
    }
   ],
   "source": [
    "flowers2 = ['rose', 'lily', 'pansy', 'jasmine', 'tulip', 'poppy', 'tulip', 'tulip']\n",
    "del flowers2[-2]   # del operator used to delete specified item using its index\n",
    "print(flowers2)\n",
    "print(flowers)"
   ]
  },
  {
   "cell_type": "markdown",
   "metadata": {},
   "source": [
    "# len (length) operator"
   ]
  },
  {
   "cell_type": "code",
   "execution_count": 21,
   "metadata": {},
   "outputs": [
    {
     "data": {
      "text/plain": [
       "7"
      ]
     },
     "execution_count": 21,
     "metadata": {},
     "output_type": "execute_result"
    }
   ],
   "source": [
    "len (flowers2)  #refers to the length/no. of items of list"
   ]
  },
  {
   "cell_type": "markdown",
   "metadata": {},
   "source": [
    "# count functtion"
   ]
  },
  {
   "cell_type": "code",
   "execution_count": 22,
   "metadata": {},
   "outputs": [
    {
     "data": {
      "text/plain": [
       "2"
      ]
     },
     "execution_count": 22,
     "metadata": {},
     "output_type": "execute_result"
    }
   ],
   "source": [
    "flowers2.count(\"tulip\")  #  counts the occurrences of an item in a list"
   ]
  },
  {
   "cell_type": "markdown",
   "metadata": {},
   "source": [
    "# sort function"
   ]
  },
  {
   "cell_type": "code",
   "execution_count": 1,
   "metadata": {},
   "outputs": [
    {
     "name": "stdout",
     "output_type": "stream",
     "text": [
      "[2, 6, 3, 5, 8, 7, 1, 4, 9]\n",
      "[1, 2, 3, 4, 5, 6, 7, 8, 9]\n"
     ]
    }
   ],
   "source": [
    "list1 = [2,6,3,5,8,7,1,4,9]  # sorts the list in ascending order and alphabetical order\n",
    "print(list1)\n",
    "list1.sort()  #sort func has a parameter \"reverse = false\" by default which sorts the in ascending order\n",
    "print(list1)"
   ]
  },
  {
   "cell_type": "code",
   "execution_count": 3,
   "metadata": {},
   "outputs": [
    {
     "name": "stdout",
     "output_type": "stream",
     "text": [
      "[9, 8, 7, 6, 5, 4, 3, 2, 1]\n"
     ]
    }
   ],
   "source": [
    "list1.sort(reverse=True)  # when reverse = true in sort func is mentioned the list is sorted in descending order\n",
    "print(list1)"
   ]
  },
  {
   "cell_type": "markdown",
   "metadata": {},
   "source": [
    "# reverse function"
   ]
  },
  {
   "cell_type": "code",
   "execution_count": 4,
   "metadata": {},
   "outputs": [
    {
     "name": "stdout",
     "output_type": "stream",
     "text": [
      "[9, 4, 1, 7, 8, 5, 3, 6, 2]\n"
     ]
    }
   ],
   "source": [
    "list1 = [2,6,3,5,8,7,1,4,9]   # reverse func just reverses the order of list, it doesn't sorts the list\n",
    "list1.reverse()\n",
    "print(list1)"
   ]
  },
  {
   "cell_type": "markdown",
   "metadata": {},
   "source": [
    "# pop function"
   ]
  },
  {
   "cell_type": "code",
   "execution_count": 24,
   "metadata": {},
   "outputs": [
    {
     "name": "stdout",
     "output_type": "stream",
     "text": [
      "the value popped from the list1 is 1\n",
      "the value popped from the list1 is 3\n",
      "the value popped from the list1 is 5\n",
      "[2, 6, 8, 7, 4, 9]\n"
     ]
    }
   ],
   "source": [
    "list1 = [2,6,3,5,8,7,1,4,9]\n",
    "poppedvalue = list1.pop(-3)\n",
    "print(f\"the value popped from the list1 is {poppedvalue}\")\n",
    "poppedvalue = list1.pop(-6)\n",
    "print(f\"the value popped from the list1 is {poppedvalue}\")\n",
    "poppedvalue = list1.pop(2)\n",
    "print(f\"the value popped from the list1 is {poppedvalue}\")\n",
    "print(list1)"
   ]
  },
  {
   "cell_type": "code",
   "execution_count": 22,
   "metadata": {},
   "outputs": [
    {
     "name": "stdout",
     "output_type": "stream",
     "text": [
      "3\n"
     ]
    }
   ],
   "source": [
    "print(poppedvalue)"
   ]
  },
  {
   "cell_type": "code",
   "execution_count": 2,
   "metadata": {},
   "outputs": [
    {
     "name": "stdout",
     "output_type": "stream",
     "text": [
      "[]\n"
     ]
    },
    {
     "ename": "IndexError",
     "evalue": "pop from empty list",
     "output_type": "error",
     "traceback": [
      "\u001b[1;31m---------------------------------------------------------------------------\u001b[0m",
      "\u001b[1;31mIndexError\u001b[0m                                Traceback (most recent call last)",
      "\u001b[1;32m<ipython-input-2-cf2d7de97470>\u001b[0m in \u001b[0;36m<module>\u001b[1;34m\u001b[0m\n\u001b[0;32m      1\u001b[0m \u001b[0ml1\u001b[0m \u001b[1;33m=\u001b[0m \u001b[1;33m[\u001b[0m\u001b[1;33m]\u001b[0m     \u001b[1;31m#pop func can't pop a value from empty list\u001b[0m\u001b[1;33m\u001b[0m\u001b[1;33m\u001b[0m\u001b[0m\n\u001b[0;32m      2\u001b[0m \u001b[0mprint\u001b[0m\u001b[1;33m(\u001b[0m\u001b[0ml1\u001b[0m\u001b[1;33m)\u001b[0m   \u001b[1;31m# we can initialize an empty  list\u001b[0m\u001b[1;33m\u001b[0m\u001b[1;33m\u001b[0m\u001b[0m\n\u001b[1;32m----> 3\u001b[1;33m \u001b[0ml2\u001b[0m \u001b[1;33m=\u001b[0m \u001b[0ml1\u001b[0m\u001b[1;33m.\u001b[0m\u001b[0mpop\u001b[0m\u001b[1;33m(\u001b[0m\u001b[1;33m)\u001b[0m\u001b[1;33m\u001b[0m\u001b[1;33m\u001b[0m\u001b[0m\n\u001b[0m",
      "\u001b[1;31mIndexError\u001b[0m: pop from empty list"
     ]
    }
   ],
   "source": [
    "l1 = []     #pop func can't pop a value from empty list\n",
    "print(l1)   # we can initialize an empty  list\n",
    "l2 = l1.pop()"
   ]
  },
  {
   "cell_type": "markdown",
   "metadata": {},
   "source": [
    "# remove function"
   ]
  },
  {
   "cell_type": "code",
   "execution_count": 27,
   "metadata": {},
   "outputs": [
    {
     "name": "stdout",
     "output_type": "stream",
     "text": [
      "[2, 6, 8, 4, 9]\n"
     ]
    }
   ],
   "source": [
    "list1 = [2, 6, 8, 7, 4, 9]   # remove func removes a value from list ,it takes a value not an index as argument\n",
    "list1.remove(7)\n",
    "print(list1)"
   ]
  },
  {
   "cell_type": "markdown",
   "metadata": {},
   "source": [
    "# clear function"
   ]
  },
  {
   "cell_type": "code",
   "execution_count": 28,
   "metadata": {},
   "outputs": [
    {
     "name": "stdout",
     "output_type": "stream",
     "text": [
      "[2, 6, 8, 4, 9]\n",
      "[]\n"
     ]
    }
   ],
   "source": [
    "list2 = list1.copy()   # clear func permanently deletes the list\n",
    "print(list2)     \n",
    "list1.clear()\n",
    "print(list1)"
   ]
  },
  {
   "cell_type": "markdown",
   "metadata": {},
   "source": [
    "# slicing of elements"
   ]
  },
  {
   "cell_type": "code",
   "execution_count": 4,
   "metadata": {},
   "outputs": [
    {
     "name": "stdout",
     "output_type": "stream",
     "text": [
      "2\n",
      "2\n",
      "[8, 4, 9]\n",
      "[6, 4, 3]\n",
      "[2, 8, 9]\n",
      "[6, 5]\n",
      "[2, 4, 5]\n",
      "[2, 9, 1]\n",
      "[6, 9, 7]\n"
     ]
    }
   ],
   "source": [
    "#index -10 -9  -8 -7 -6 -5 -4 -3 -2 -1     # the sliced list is subset of actual list    [start:end:step value]\n",
    "list2 = [2, 6, 8, 4, 9, 3, 5, 7, 1, 10]\n",
    "# index  0  1  2  3  4  5  6 7  8   9\n",
    "print(list2[0])  # both indices 0 and -10 reder to the same item 2 which is first item in list\n",
    "print(list2[-10])\n",
    "print(list2[2:5])   # initial index is included in the sliced list([:]),final index excluded appearing after colon\n",
    "                      # the value before the final index mentioned is included in the sliced list\n",
    "print(list2[1:6:2])  # slices the items after two steps(mentioned in the syntax as third entry after colon)\n",
    "print(list2[:5:2])  # slices the items after two steps(mentioned in the syntax as third entry after colon)\n",
    "print(list2[1:9:5])  # slices the items after two steps(mentioned in the syntax as third entry after colon)\n",
    "print(list2[:8:3])  # slices the items after three steps(mentioned in the syntax as third entry after colon)\n",
    "print(list2[0:9:4])  # slices the items after four steps(mentioned in the syntax as third entry after colon)\n",
    "print(list2[1:9:3])  # slices the items after three steps(mentioned in the syntax as third entry after colon)\n"
   ]
  },
  {
   "cell_type": "code",
   "execution_count": 20,
   "metadata": {},
   "outputs": [
    {
     "name": "stdout",
     "output_type": "stream",
     "text": [
      "False\n"
     ]
    }
   ],
   "source": [
    "l1=[\"1\", \"2\", \"3\"]\n",
    "l2=[\"A\", \"B\", \"C\"]\n",
    "print(l1.__eq__(l2))    # checks if lists are equal"
   ]
  },
  {
   "cell_type": "code",
   "execution_count": 19,
   "metadata": {},
   "outputs": [
    {
     "name": "stdout",
     "output_type": "stream",
     "text": [
      "False\n",
      "True\n"
     ]
    }
   ],
   "source": [
    "a1=[3, 4, 5]\n",
    "a2=[6, 7, 8]\n",
    "print(a1.__ge__(a2))   # checks greater than equal\n",
    "print(a2.__ge__(a1))"
   ]
  },
  {
   "cell_type": "code",
   "execution_count": 18,
   "metadata": {},
   "outputs": [
    {
     "name": "stdout",
     "output_type": "stream",
     "text": [
      "[4, 7, 8, 5, 3, 9, 2, 5, 1, 6, 11, 12, 13, 14]\n",
      "[4, 7, 8, 5, 3, 9, 2, 5, 1, 6, 11, 12, 13, 14]\n"
     ]
    }
   ],
   "source": [
    "l3 = [4,7,8,5,3,9,2,5,1,6]\n",
    "print(l3+[11,12,13,14])    # in line operation\n",
    "l3\n",
    "print(l3.__add__([11,12,13,14]))   #in line operation\n"
   ]
  },
  {
   "cell_type": "markdown",
   "metadata": {},
   "source": [
    "# TUPLES"
   ]
  },
  {
   "cell_type": "code",
   "execution_count": null,
   "metadata": {},
   "outputs": [],
   "source": [
    "# tuples are important bcz they are assigned such values which can't be changed e.g days of week,provinces of a country\n",
    "# names of months,cities of country,names of continents etc."
   ]
  },
  {
   "cell_type": "code",
   "execution_count": 1,
   "metadata": {},
   "outputs": [
    {
     "data": {
      "text/plain": [
       "['__add__',\n",
       " '__class__',\n",
       " '__contains__',\n",
       " '__delattr__',\n",
       " '__dir__',\n",
       " '__doc__',\n",
       " '__eq__',\n",
       " '__format__',\n",
       " '__ge__',\n",
       " '__getattribute__',\n",
       " '__getitem__',\n",
       " '__getnewargs__',\n",
       " '__gt__',\n",
       " '__hash__',\n",
       " '__init__',\n",
       " '__init_subclass__',\n",
       " '__iter__',\n",
       " '__le__',\n",
       " '__len__',\n",
       " '__lt__',\n",
       " '__mul__',\n",
       " '__ne__',\n",
       " '__new__',\n",
       " '__reduce__',\n",
       " '__reduce_ex__',\n",
       " '__repr__',\n",
       " '__rmul__',\n",
       " '__setattr__',\n",
       " '__sizeof__',\n",
       " '__str__',\n",
       " '__subclasshook__',\n",
       " 'count',\n",
       " 'index']"
      ]
     },
     "execution_count": 1,
     "metadata": {},
     "output_type": "execute_result"
    }
   ],
   "source": [
    "dir(tuple)"
   ]
  },
  {
   "cell_type": "code",
   "execution_count": 7,
   "metadata": {},
   "outputs": [
    {
     "name": "stdout",
     "output_type": "stream",
     "text": [
      "('islamabad', 'lahore', 'multan', 'faisalabad', 'rawalpindi')\n"
     ]
    }
   ],
   "source": [
    "cities = (\"islamabad\",\"lahore\",\"multan\",\"faisalabad\",\"rawalpindi\")\n",
    "print(cities)"
   ]
  },
  {
   "cell_type": "markdown",
   "metadata": {},
   "source": [
    "# tuples can't be modified"
   ]
  },
  {
   "cell_type": "code",
   "execution_count": 10,
   "metadata": {},
   "outputs": [
    {
     "ename": "AttributeError",
     "evalue": "'tuple' object has no attribute 'append'",
     "output_type": "error",
     "traceback": [
      "\u001b[1;31m---------------------------------------------------------------------------\u001b[0m",
      "\u001b[1;31mAttributeError\u001b[0m                            Traceback (most recent call last)",
      "\u001b[1;32m<ipython-input-10-fe8e1974d5a3>\u001b[0m in \u001b[0;36m<module>\u001b[1;34m\u001b[0m\n\u001b[0;32m      1\u001b[0m \u001b[0mcities\u001b[0m \u001b[1;33m=\u001b[0m \u001b[1;33m(\u001b[0m\u001b[1;34m\"islamabad\"\u001b[0m\u001b[1;33m,\u001b[0m\u001b[1;34m\"lahore\"\u001b[0m\u001b[1;33m,\u001b[0m\u001b[1;34m\"multan\"\u001b[0m\u001b[1;33m,\u001b[0m\u001b[1;34m\"faisalabad\"\u001b[0m\u001b[1;33m,\u001b[0m\u001b[1;34m\"rawalpindi\"\u001b[0m\u001b[1;33m)\u001b[0m\u001b[1;33m\u001b[0m\u001b[1;33m\u001b[0m\u001b[0m\n\u001b[1;32m----> 2\u001b[1;33m \u001b[0mcities\u001b[0m\u001b[1;33m.\u001b[0m\u001b[0mappend\u001b[0m\u001b[1;33m(\u001b[0m\u001b[1;34m\"gujrat\"\u001b[0m\u001b[1;33m)\u001b[0m   \u001b[1;31m# tuple can't be modified,cleared,appended,deleted once it is defined.\u001b[0m\u001b[1;33m\u001b[0m\u001b[1;33m\u001b[0m\u001b[0m\n\u001b[0m\u001b[0;32m      3\u001b[0m                          \u001b[1;31m# if we want to modify a tuple we have to redefine/create a tuple\u001b[0m\u001b[1;33m\u001b[0m\u001b[1;33m\u001b[0m\u001b[1;33m\u001b[0m\u001b[0m\n\u001b[0;32m      4\u001b[0m \u001b[1;32mdel\u001b[0m \u001b[0mcities\u001b[0m\u001b[1;33m[\u001b[0m\u001b[1;36m2\u001b[0m\u001b[1;33m]\u001b[0m\u001b[1;33m\u001b[0m\u001b[1;33m\u001b[0m\u001b[0m\n",
      "\u001b[1;31mAttributeError\u001b[0m: 'tuple' object has no attribute 'append'"
     ]
    }
   ],
   "source": [
    "cities = (\"islamabad\",\"lahore\",\"multan\",\"faisalabad\",\"rawalpindi\")\n",
    "cities.append(\"gujrat\")   # tuple can't be modified,cleared,appended,deleted once it is defined.\n",
    "                         # if we want to modify a tuple we have to redefine/create a tuple\n",
    "del cities[2]    "
   ]
  },
  {
   "cell_type": "code",
   "execution_count": 2,
   "metadata": {},
   "outputs": [
    {
     "name": "stdout",
     "output_type": "stream",
     "text": [
      "2\n"
     ]
    },
    {
     "data": {
      "text/plain": [
       "5"
      ]
     },
     "execution_count": 2,
     "metadata": {},
     "output_type": "execute_result"
    }
   ],
   "source": [
    "a = (2,4,5,6,1,9,8,4,5,3,7)\n",
    "print(a.count(4))\n",
    "a.index(9)"
   ]
  },
  {
   "cell_type": "code",
   "execution_count": 4,
   "metadata": {},
   "outputs": [
    {
     "data": {
      "text/plain": [
       "tuple"
      ]
     },
     "execution_count": 4,
     "metadata": {},
     "output_type": "execute_result"
    }
   ],
   "source": [
    "a = (2,4,5,6,1,9,8,4,5,3,7)\n",
    "type(a)"
   ]
  },
  {
   "cell_type": "code",
   "execution_count": null,
   "metadata": {},
   "outputs": [],
   "source": []
  }
 ],
 "metadata": {
  "kernelspec": {
   "display_name": "Python 3",
   "language": "python",
   "name": "python3"
  },
  "language_info": {
   "codemirror_mode": {
    "name": "ipython",
    "version": 3
   },
   "file_extension": ".py",
   "mimetype": "text/x-python",
   "name": "python",
   "nbconvert_exporter": "python",
   "pygments_lexer": "ipython3",
   "version": "3.7.4"
  }
 },
 "nbformat": 4,
 "nbformat_minor": 2
}
